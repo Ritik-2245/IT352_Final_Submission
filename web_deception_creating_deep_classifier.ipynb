{
  "cells": [
    {
      "cell_type": "code",
      "execution_count": 1,
      "metadata": {
        "colab": {
          "base_uri": "https://localhost:8080/"
        },
        "id": "FBo_c94JEjxh",
        "outputId": "5b339849-2526-4688-e87d-a076a12c5702"
      },
      "outputs": [
        {
          "name": "stdout",
          "output_type": "stream",
          "text": [
            "Mounted at /content/drive/\n"
          ]
        }
      ],
      "source": [
        "from google.colab import drive\n",
        "drive.mount('/content/drive/')"
      ]
    },
    {
      "cell_type": "code",
      "execution_count": 2,
      "metadata": {
        "colab": {
          "base_uri": "https://localhost:8080/"
        },
        "id": "hu2raHB-EyuL",
        "outputId": "3ac90936-4319-4bc4-bf9b-09fb53bcb5d5"
      },
      "outputs": [
        {
          "name": "stdout",
          "output_type": "stream",
          "text": [
            "/content/drive/.shortcut-targets-by-id/1MG5qbQ0whefvbr056GUnZf-XfwttrcXj/project\n"
          ]
        }
      ],
      "source": [
        "%cd '/content/drive/MyDrive/project/'"
      ]
    },
    {
      "cell_type": "code",
      "execution_count": 3,
      "metadata": {
        "id": "ufr5dHUvFyyc"
      },
      "outputs": [],
      "source": [
        "import pandas as pd\n",
        "import numpy as np"
      ]
    },
    {
      "cell_type": "code",
      "execution_count": 4,
      "metadata": {
        "id": "kMnrkCoDt6rO"
      },
      "outputs": [],
      "source": [
        "from tensorflow.keras.preprocessing.text import Tokenizer\n",
        "from tensorflow.keras.preprocessing.sequence import pad_sequences"
      ]
    },
    {
      "cell_type": "code",
      "execution_count": 5,
      "metadata": {
        "id": "YMVz2w2JvDNY"
      },
      "outputs": [],
      "source": [
        "dt=pd.read_csv('/content/drive/MyDrive/project/pkml.csv')\n",
        "de=pd.read_csv('requests.csv')"
      ]
    },
    {
      "cell_type": "code",
      "execution_count": 6,
      "metadata": {
        "colab": {
          "base_uri": "https://localhost:8080/"
        },
        "id": "VDZRQXAcvzBi",
        "outputId": "490553af-10ed-42a2-feaa-8eb2cef91a8a"
      },
      "outputs": [
        {
          "data": {
            "text/plain": [
              "Index(['method', 'uri', 'query', 'protocol', 'Accept-Language',\n",
              "       'Accept-Encoding', 'Accept', 'User-Agent', 'classification'],\n",
              "      dtype='object')"
            ]
          },
          "execution_count": 6,
          "metadata": {},
          "output_type": "execute_result"
        }
      ],
      "source": [
        "dt.columns"
      ]
    },
    {
      "cell_type": "code",
      "execution_count": 7,
      "metadata": {
        "colab": {
          "base_uri": "https://localhost:8080/"
        },
        "id": "2tVEb2DyViyW",
        "outputId": "c4d5eb7b-ab8e-4eba-a418-ffa50397fb91"
      },
      "outputs": [
        {
          "data": {
            "text/plain": [
              "Index(['uri', 'method', 'query', 'Accept', 'Accept-Encoding',\n",
              "       'Accept-Language', 'User-Agent', 'classification'],\n",
              "      dtype='object')"
            ]
          },
          "execution_count": 7,
          "metadata": {},
          "output_type": "execute_result"
        }
      ],
      "source": [
        "de.columns"
      ]
    },
    {
      "cell_type": "code",
      "execution_count": 8,
      "metadata": {
        "id": "QEEj9NN7zZnZ"
      },
      "outputs": [],
      "source": [
        "x=['uri','method','query','Accept','Accept-Encoding','Accept-Language','User-Agent']\n",
        "t=['uri','method','query','Accept','Accept-Encoding','Accept-Language','User-Agent','classification']\n"
      ]
    },
    {
      "cell_type": "code",
      "execution_count": 9,
      "metadata": {
        "id": "A9RqTjrw_AHa"
      },
      "outputs": [],
      "source": [
        "from urllib.parse import unquote"
      ]
    },
    {
      "cell_type": "code",
      "execution_count": 10,
      "metadata": {
        "colab": {
          "base_uri": "https://localhost:8080/"
        },
        "id": "xxXKQnFG1ZxX",
        "outputId": "c3b23228-66c9-4c9d-c739-6603a1372e52"
      },
      "outputs": [
        {
          "name": "stderr",
          "output_type": "stream",
          "text": [
            "<ipython-input-10-5d4f1a1536db>:3: FutureWarning: The frame.append method is deprecated and will be removed from pandas in a future version. Use pandas.concat instead.\n",
            "  dt=dt.append(de)\n"
          ]
        }
      ],
      "source": [
        "dt=dt.append(de)\n",
        "data=dt[x].fillna('').astype(str)\n"
      ]
    },
    {
      "cell_type": "code",
      "execution_count": 11,
      "metadata": {
        "colab": {
          "base_uri": "https://localhost:8080/"
        },
        "id": "o5Yky8qS5qGt",
        "outputId": "29279e71-addf-4118-cecb-33beaafd05ec"
      },
      "outputs": [
        {
          "data": {
            "text/plain": [
              "70735"
            ]
          },
          "execution_count": 11,
          "metadata": {},
          "output_type": "execute_result"
        }
      ],
      "source": [
        "len(data)"
      ]
    },
    {
      "cell_type": "code",
      "execution_count": 12,
      "metadata": {
        "id": "C1oteQWAFqh8"
      },
      "outputs": [],
      "source": [
        "x_data=[]\n",
        "tokenizer=Tokenizer(oov_token=1,char_level=1)\n",
        "for s in data.values:\n",
        "  d=\"\"\n",
        "  z=0\n",
        "  for i in s:\n",
        "    if i!='':\n",
        "      d+=x[z]+\" : \"+i+\" \\n\"\n",
        "    z+=1\n",
        "  x_data.append(d.lower())\n",
        "\n",
        "tokenizer.fit_on_texts(x_data)"
      ]
    },
    {
      "cell_type": "code",
      "execution_count": 13,
      "metadata": {
        "colab": {
          "base_uri": "https://localhost:8080/"
        },
        "id": "cQenIIPD1qBU",
        "outputId": "536a0022-637a-4c1c-807f-6fa0be34c712"
      },
      "outputs": [
        {
          "name": "stdout",
          "output_type": "stream",
          "text": [
            "167\n"
          ]
        }
      ],
      "source": [
        "vocab_size=len(tokenizer.word_counts)+100\n",
        "print(vocab_size)"
      ]
    },
    {
      "cell_type": "code",
      "execution_count": 14,
      "metadata": {
        "colab": {
          "base_uri": "https://localhost:8080/"
        },
        "id": "sKbU-4hXt10a",
        "outputId": "010e63d8-4eeb-4b5b-d9bf-fc03581dd4a9"
      },
      "outputs": [
        {
          "name": "stdout",
          "output_type": "stream",
          "text": [
            "uri : /l_t@/_feu1wvhtpass2/1nieqnnrvnzktuasain/tg1arifg_onc_d/ms/o1xryttk34/ovkr_d8zz/dwvcnk7aq-m1crgy_/zyhrk2p0brdp/oe/pyyxrggnhik2n1twii.png \n",
            "method : get \n",
            "query : crteyreti=wsn&et3tf6shov=tdsviee+y+fum%24oh3%3bore&saib5hfavhepc=tcilbrr+lne \n",
            "accept : */* \n",
            "accept-encoding : compress;q=0.1 \n",
            "accept-language : apnalto-md;q=0.6, asdn-ee, eai-5ns;q=0.0 \n",
            "user-agent : lnujse/3.5.6.9 \n",
            " uri : /inssgtz7ieltdsstbw7e/neqhmsdwu7imdb0etet/et/hsvegbff/eh/niravlwgk_l/oslnbwchrk5ogmi/tmljfqsww/ssjs6krjb.html \n",
            "method : get \n",
            "query : settotzeertnl=%27pn+&8nafitm=74lukuc5t0j&4ttne=anmsyusi6&mf1g-vyqyx=elttsw&euoytxprthane=e229evoy%401&tu=aht7hhgettiuy&hol=74723&7emgo0il=aahri&oclupha=ocark01n&ditduesn4on=vs%24&prfclmdeiaeed=n0drn7genterci&metucwotoiwr=5n%2bwp4jo+%5dp&emt=11zefsa2p \n",
            "accept : */* \n",
            "accept-encoding : *;q=0.7 \n",
            "accept-language : ondtmsih-rqjk1;q=0.6 \n",
            "user-agent : rfno5rdhfnnssmascs \n",
            " uri : /fonrnt/7n.d-4brssxb@tu/qghew.cfm \n",
            "method : get \n",
            "accept : image/* \n",
            "accept-encoding : compress, compress, identity;q=0.6, deflate;q=0.1 \n",
            "accept-language : * \n",
            "user-agent : nhgiopie/7.8.4.7.0 \n",
            " uri : /dyylkl.xd9cpu/4ot0ta/ts6xnrp1/hssh/a2cuerht/se8j00jif@ubfx.77g/s0f/gt/5tsrstiuyvldfatrury.png \n",
            "method : get \n",
            "query : dfdi7ftp=37redocumentiln&l4setbemmo=oe_rdzq&rtatococr=n%25rmps+gtess%7cscriptu1&oehe=script&iar7e=ih6&arwdp%u=69&mi=0&te=ajfhr&kteeopui=ykpjbs7dlli&documentxkbodykjdwsam=09556783&eto=rmqt_hh \n",
            "accept : video/*, application/* \n",
            "accept-language : * \n",
            "user-agent : mozilla/9.5 (x11; u; linux i586 8.6; ee-ti; rv:5.5.6) gecko/29759597 \n",
            " uri : /2m6vlb1r37jspc/cwvv/mbar/oqrd0/msc/etceebwgi/io/m2zxmv/r@i98tor3ybblcn.css \n",
            "method : get \n",
            "query : upcthyrsrtztir=90&o@gcv=uy&l6=s4&nrtrzevjgah=34&ws58dbd=alvautoexec6ndymlh%5c&cdz4ethpd=dh3heawtuk&re4le=hte9ascnrtiptlr+&rzaurgneasae=%25cnsdgtdejpm&1hymcf0ois2gaod=6134&m7mfa9oalh=h9ltfeldjegtrtsa&8lyd3esrha=nrhitknze&nbt=scwhpjp_jj0i&c5narae5tel=ehjrfrnekbiditx&zlflswttuzwl=wolxiz \n",
            "accept : text/*, text/plain;q=0.7 \n",
            "accept-encoding : *;q=0.9 \n",
            "accept-language : * \n",
            "user-agent : dahehds/8.3 \n",
            "\n"
          ]
        }
      ],
      "source": [
        "print(*x_data[:5])"
      ]
    },
    {
      "cell_type": "code",
      "execution_count": 15,
      "metadata": {
        "colab": {
          "base_uri": "https://localhost:8080/",
          "height": 478
        },
        "id": "l74UENnX9Pck",
        "outputId": "21d88e0c-d085-4acb-ed78-6123473d53f3"
      },
      "outputs": [
        {
          "data": {
            "text/html": [
              "\n",
              "  <div id=\"df-b4eb90bc-9db7-4a5e-aa2a-b8d5b461e42f\">\n",
              "    <div class=\"colab-df-container\">\n",
              "      <div>\n",
              "<style scoped>\n",
              "    .dataframe tbody tr th:only-of-type {\n",
              "        vertical-align: middle;\n",
              "    }\n",
              "\n",
              "    .dataframe tbody tr th {\n",
              "        vertical-align: top;\n",
              "    }\n",
              "\n",
              "    .dataframe thead th {\n",
              "        text-align: right;\n",
              "    }\n",
              "</style>\n",
              "<table border=\"1\" class=\"dataframe\">\n",
              "  <thead>\n",
              "    <tr style=\"text-align: right;\">\n",
              "      <th></th>\n",
              "      <th>uri</th>\n",
              "      <th>method</th>\n",
              "      <th>query</th>\n",
              "      <th>Accept</th>\n",
              "      <th>Accept-Encoding</th>\n",
              "      <th>Accept-Language</th>\n",
              "      <th>User-Agent</th>\n",
              "    </tr>\n",
              "  </thead>\n",
              "  <tbody>\n",
              "    <tr>\n",
              "      <th>0</th>\n",
              "      <td>/l_t@/_Feu1wvhtpass2/1nieQnnrvnzktuasain/tg1AR...</td>\n",
              "      <td>GET</td>\n",
              "      <td>crTeYreti=wsn&amp;et3tf6shoV=tdsviee+y+fum%24oh3%3...</td>\n",
              "      <td>*/*</td>\n",
              "      <td>compress;q=0.1</td>\n",
              "      <td>apnalTo-mD;q=0.6, asdn-Ee, eai-5ns;q=0.0</td>\n",
              "      <td>lnujse/3.5.6.9</td>\n",
              "    </tr>\n",
              "    <tr>\n",
              "      <th>1</th>\n",
              "      <td>/inssgtz7ieltdSstbw7e/neQhmsdwu7imdb0etet/eT/h...</td>\n",
              "      <td>GET</td>\n",
              "      <td>Settotzeertnl=%27pn+&amp;8nafitm=74LuKUC5t0J&amp;4ttNe...</td>\n",
              "      <td>*/*</td>\n",
              "      <td>*;q=0.7</td>\n",
              "      <td>ondtmsih-rqjk1;q=0.6</td>\n",
              "      <td>rfno5rdhfNnssmascs</td>\n",
              "    </tr>\n",
              "    <tr>\n",
              "      <th>2</th>\n",
              "      <td>/fonRnt/7N.D-4BRSsXb@TU/qgheW.cfm</td>\n",
              "      <td>GET</td>\n",
              "      <td></td>\n",
              "      <td>image/*</td>\n",
              "      <td>compress, compress, identity;q=0.6, deflate;q=0.1</td>\n",
              "      <td>*</td>\n",
              "      <td>nhgiopIe/7.8.4.7.0</td>\n",
              "    </tr>\n",
              "    <tr>\n",
              "      <th>3</th>\n",
              "      <td>/dyylkL.XD9cPu/4Ot0ta/ts6xNrP1/hssh/a2cuerht/s...</td>\n",
              "      <td>GET</td>\n",
              "      <td>DFDi7ftp=37redocumentilN&amp;l4setbemmo=oe_RDzQ&amp;rt...</td>\n",
              "      <td>video/*, application/*</td>\n",
              "      <td></td>\n",
              "      <td>*</td>\n",
              "      <td>Mozilla/9.5 (X11; U; Linux i586 8.6; Ee-ti; rv...</td>\n",
              "    </tr>\n",
              "    <tr>\n",
              "      <th>4</th>\n",
              "      <td>/2m6VLb1r37jSPC/cWVv/Mbar/oqrd0/msc/etceebwgi/...</td>\n",
              "      <td>GET</td>\n",
              "      <td>upcthyrsrtztir=90&amp;o@gCv=uy&amp;l6=S4&amp;nrtrzevjgah=3...</td>\n",
              "      <td>text/*, text/plain;q=0.7</td>\n",
              "      <td>*;q=0.9</td>\n",
              "      <td>*</td>\n",
              "      <td>daHeHds/8.3</td>\n",
              "    </tr>\n",
              "  </tbody>\n",
              "</table>\n",
              "</div>\n",
              "      <button class=\"colab-df-convert\" onclick=\"convertToInteractive('df-b4eb90bc-9db7-4a5e-aa2a-b8d5b461e42f')\"\n",
              "              title=\"Convert this dataframe to an interactive table.\"\n",
              "              style=\"display:none;\">\n",
              "        \n",
              "  <svg xmlns=\"http://www.w3.org/2000/svg\" height=\"24px\"viewBox=\"0 0 24 24\"\n",
              "       width=\"24px\">\n",
              "    <path d=\"M0 0h24v24H0V0z\" fill=\"none\"/>\n",
              "    <path d=\"M18.56 5.44l.94 2.06.94-2.06 2.06-.94-2.06-.94-.94-2.06-.94 2.06-2.06.94zm-11 1L8.5 8.5l.94-2.06 2.06-.94-2.06-.94L8.5 2.5l-.94 2.06-2.06.94zm10 10l.94 2.06.94-2.06 2.06-.94-2.06-.94-.94-2.06-.94 2.06-2.06.94z\"/><path d=\"M17.41 7.96l-1.37-1.37c-.4-.4-.92-.59-1.43-.59-.52 0-1.04.2-1.43.59L10.3 9.45l-7.72 7.72c-.78.78-.78 2.05 0 2.83L4 21.41c.39.39.9.59 1.41.59.51 0 1.02-.2 1.41-.59l7.78-7.78 2.81-2.81c.8-.78.8-2.07 0-2.86zM5.41 20L4 18.59l7.72-7.72 1.47 1.35L5.41 20z\"/>\n",
              "  </svg>\n",
              "      </button>\n",
              "      \n",
              "  <style>\n",
              "    .colab-df-container {\n",
              "      display:flex;\n",
              "      flex-wrap:wrap;\n",
              "      gap: 12px;\n",
              "    }\n",
              "\n",
              "    .colab-df-convert {\n",
              "      background-color: #E8F0FE;\n",
              "      border: none;\n",
              "      border-radius: 50%;\n",
              "      cursor: pointer;\n",
              "      display: none;\n",
              "      fill: #1967D2;\n",
              "      height: 32px;\n",
              "      padding: 0 0 0 0;\n",
              "      width: 32px;\n",
              "    }\n",
              "\n",
              "    .colab-df-convert:hover {\n",
              "      background-color: #E2EBFA;\n",
              "      box-shadow: 0px 1px 2px rgba(60, 64, 67, 0.3), 0px 1px 3px 1px rgba(60, 64, 67, 0.15);\n",
              "      fill: #174EA6;\n",
              "    }\n",
              "\n",
              "    [theme=dark] .colab-df-convert {\n",
              "      background-color: #3B4455;\n",
              "      fill: #D2E3FC;\n",
              "    }\n",
              "\n",
              "    [theme=dark] .colab-df-convert:hover {\n",
              "      background-color: #434B5C;\n",
              "      box-shadow: 0px 1px 3px 1px rgba(0, 0, 0, 0.15);\n",
              "      filter: drop-shadow(0px 1px 2px rgba(0, 0, 0, 0.3));\n",
              "      fill: #FFFFFF;\n",
              "    }\n",
              "  </style>\n",
              "\n",
              "      <script>\n",
              "        const buttonEl =\n",
              "          document.querySelector('#df-b4eb90bc-9db7-4a5e-aa2a-b8d5b461e42f button.colab-df-convert');\n",
              "        buttonEl.style.display =\n",
              "          google.colab.kernel.accessAllowed ? 'block' : 'none';\n",
              "\n",
              "        async function convertToInteractive(key) {\n",
              "          const element = document.querySelector('#df-b4eb90bc-9db7-4a5e-aa2a-b8d5b461e42f');\n",
              "          const dataTable =\n",
              "            await google.colab.kernel.invokeFunction('convertToInteractive',\n",
              "                                                     [key], {});\n",
              "          if (!dataTable) return;\n",
              "\n",
              "          const docLinkHtml = 'Like what you see? Visit the ' +\n",
              "            '<a target=\"_blank\" href=https://colab.research.google.com/notebooks/data_table.ipynb>data table notebook</a>'\n",
              "            + ' to learn more about interactive tables.';\n",
              "          element.innerHTML = '';\n",
              "          dataTable['output_type'] = 'display_data';\n",
              "          await google.colab.output.renderOutput(dataTable, element);\n",
              "          const docLink = document.createElement('div');\n",
              "          docLink.innerHTML = docLinkHtml;\n",
              "          element.appendChild(docLink);\n",
              "        }\n",
              "      </script>\n",
              "    </div>\n",
              "  </div>\n",
              "  "
            ],
            "text/plain": [
              "                                                 uri method  \\\n",
              "0  /l_t@/_Feu1wvhtpass2/1nieQnnrvnzktuasain/tg1AR...    GET   \n",
              "1  /inssgtz7ieltdSstbw7e/neQhmsdwu7imdb0etet/eT/h...    GET   \n",
              "2                  /fonRnt/7N.D-4BRSsXb@TU/qgheW.cfm    GET   \n",
              "3  /dyylkL.XD9cPu/4Ot0ta/ts6xNrP1/hssh/a2cuerht/s...    GET   \n",
              "4  /2m6VLb1r37jSPC/cWVv/Mbar/oqrd0/msc/etceebwgi/...    GET   \n",
              "\n",
              "                                               query  \\\n",
              "0  crTeYreti=wsn&et3tf6shoV=tdsviee+y+fum%24oh3%3...   \n",
              "1  Settotzeertnl=%27pn+&8nafitm=74LuKUC5t0J&4ttNe...   \n",
              "2                                                      \n",
              "3  DFDi7ftp=37redocumentilN&l4setbemmo=oe_RDzQ&rt...   \n",
              "4  upcthyrsrtztir=90&o@gCv=uy&l6=S4&nrtrzevjgah=3...   \n",
              "\n",
              "                     Accept  \\\n",
              "0                       */*   \n",
              "1                       */*   \n",
              "2                   image/*   \n",
              "3    video/*, application/*   \n",
              "4  text/*, text/plain;q=0.7   \n",
              "\n",
              "                                     Accept-Encoding  \\\n",
              "0                                     compress;q=0.1   \n",
              "1                                            *;q=0.7   \n",
              "2  compress, compress, identity;q=0.6, deflate;q=0.1   \n",
              "3                                                      \n",
              "4                                            *;q=0.9   \n",
              "\n",
              "                            Accept-Language  \\\n",
              "0  apnalTo-mD;q=0.6, asdn-Ee, eai-5ns;q=0.0   \n",
              "1                      ondtmsih-rqjk1;q=0.6   \n",
              "2                                         *   \n",
              "3                                         *   \n",
              "4                                         *   \n",
              "\n",
              "                                          User-Agent  \n",
              "0                                     lnujse/3.5.6.9  \n",
              "1                                 rfno5rdhfNnssmascs  \n",
              "2                                 nhgiopIe/7.8.4.7.0  \n",
              "3  Mozilla/9.5 (X11; U; Linux i586 8.6; Ee-ti; rv...  \n",
              "4                                        daHeHds/8.3  "
            ]
          },
          "execution_count": 15,
          "metadata": {},
          "output_type": "execute_result"
        }
      ],
      "source": [
        "data.head()"
      ]
    },
    {
      "cell_type": "markdown",
      "metadata": {
        "id": "wwDTOCGwTVPo"
      },
      "source": [
        "**bold text**## \n",
        "\n"
      ]
    },
    {
      "cell_type": "code",
      "execution_count": 16,
      "metadata": {
        "id": "I-j3KXZG9trf"
      },
      "outputs": [],
      "source": [
        "padded=tokenizer.texts_to_sequences(x_data)"
      ]
    },
    {
      "cell_type": "code",
      "execution_count": 17,
      "metadata": {
        "colab": {
          "base_uri": "https://localhost:8080/"
        },
        "id": "DYlQsmT4Leto",
        "outputId": "8d93650c-0b59-49ab-87a3-5f2412b704a0"
      },
      "outputs": [
        {
          "data": {
            "text/plain": [
              "381"
            ]
          },
          "execution_count": 17,
          "metadata": {},
          "output_type": "execute_result"
        }
      ],
      "source": [
        "len(padded[0])\n"
      ]
    },
    {
      "cell_type": "code",
      "execution_count": 18,
      "metadata": {
        "colab": {
          "base_uri": "https://localhost:8080/"
        },
        "id": "_BQsEo2RMySV",
        "outputId": "5273423b-0e2d-488b-8ee9-f24df10680ed"
      },
      "outputs": [
        {
          "data": {
            "text/plain": [
              "[18,\n",
              " 11,\n",
              " 6,\n",
              " 3,\n",
              " 23,\n",
              " 3,\n",
              " 14,\n",
              " 13,\n",
              " 53,\n",
              " 5,\n",
              " 54,\n",
              " 14,\n",
              " 53,\n",
              " 32,\n",
              " 2,\n",
              " 18,\n",
              " 28,\n",
              " 31,\n",
              " 43,\n",
              " 21,\n",
              " 5,\n",
              " 15,\n",
              " 4,\n",
              " 12,\n",
              " 12,\n",
              " 20,\n",
              " 14,\n",
              " 28,\n",
              " 7,\n",
              " 6,\n",
              " 2,\n",
              " 27,\n",
              " 7,\n",
              " 7,\n",
              " 11,\n",
              " 43,\n",
              " 7,\n",
              " 48,\n",
              " 46,\n",
              " 5,\n",
              " 18,\n",
              " 4,\n",
              " 12,\n",
              " 4,\n",
              " 6,\n",
              " 7,\n",
              " 14,\n",
              " 5,\n",
              " 16,\n",
              " 28,\n",
              " 4,\n",
              " 11,\n",
              " 6,\n",
              " 32,\n",
              " 16,\n",
              " 53,\n",
              " 8,\n",
              " 7,\n",
              " 9,\n",
              " 53,\n",
              " 19,\n",
              " 14,\n",
              " 17,\n",
              " 12,\n",
              " 14,\n",
              " 8,\n",
              " 28,\n",
              " 33,\n",
              " 11,\n",
              " 35,\n",
              " 5,\n",
              " 5,\n",
              " 46,\n",
              " 37,\n",
              " 41,\n",
              " 14,\n",
              " 8,\n",
              " 43,\n",
              " 46,\n",
              " 11,\n",
              " 53,\n",
              " 19,\n",
              " 44,\n",
              " 48,\n",
              " 48,\n",
              " 14,\n",
              " 19,\n",
              " 31,\n",
              " 43,\n",
              " 9,\n",
              " 7,\n",
              " 46,\n",
              " 45,\n",
              " 4,\n",
              " 27,\n",
              " 29,\n",
              " 17,\n",
              " 28,\n",
              " 9,\n",
              " 11,\n",
              " 16,\n",
              " 35,\n",
              " 53,\n",
              " 14,\n",
              " 48,\n",
              " 35,\n",
              " 21,\n",
              " 11,\n",
              " 46,\n",
              " 20,\n",
              " 15,\n",
              " 10,\n",
              " 34,\n",
              " 11,\n",
              " 19,\n",
              " 15,\n",
              " 14,\n",
              " 8,\n",
              " 2,\n",
              " 14,\n",
              " 15,\n",
              " 35,\n",
              " 35,\n",
              " 33,\n",
              " 11,\n",
              " 16,\n",
              " 16,\n",
              " 7,\n",
              " 21,\n",
              " 6,\n",
              " 46,\n",
              " 20,\n",
              " 7,\n",
              " 28,\n",
              " 5,\n",
              " 31,\n",
              " 6,\n",
              " 6,\n",
              " 22,\n",
              " 15,\n",
              " 7,\n",
              " 16,\n",
              " 3,\n",
              " 25,\n",
              " 17,\n",
              " 2,\n",
              " 5,\n",
              " 21,\n",
              " 8,\n",
              " 19,\n",
              " 3,\n",
              " 23,\n",
              " 3,\n",
              " 16,\n",
              " 2,\n",
              " 5,\n",
              " 3,\n",
              " 25,\n",
              " 27,\n",
              " 18,\n",
              " 2,\n",
              " 11,\n",
              " 35,\n",
              " 3,\n",
              " 23,\n",
              " 3,\n",
              " 9,\n",
              " 11,\n",
              " 5,\n",
              " 2,\n",
              " 35,\n",
              " 11,\n",
              " 2,\n",
              " 5,\n",
              " 6,\n",
              " 24,\n",
              " 31,\n",
              " 12,\n",
              " 7,\n",
              " 39,\n",
              " 2,\n",
              " 5,\n",
              " 37,\n",
              " 5,\n",
              " 32,\n",
              " 42,\n",
              " 12,\n",
              " 21,\n",
              " 8,\n",
              " 43,\n",
              " 24,\n",
              " 5,\n",
              " 19,\n",
              " 12,\n",
              " 43,\n",
              " 6,\n",
              " 2,\n",
              " 2,\n",
              " 47,\n",
              " 35,\n",
              " 47,\n",
              " 32,\n",
              " 18,\n",
              " 17,\n",
              " 26,\n",
              " 20,\n",
              " 41,\n",
              " 8,\n",
              " 21,\n",
              " 37,\n",
              " 26,\n",
              " 37,\n",
              " 34,\n",
              " 8,\n",
              " 11,\n",
              " 2,\n",
              " 39,\n",
              " 12,\n",
              " 4,\n",
              " 6,\n",
              " 34,\n",
              " 36,\n",
              " 21,\n",
              " 32,\n",
              " 4,\n",
              " 43,\n",
              " 21,\n",
              " 2,\n",
              " 15,\n",
              " 9,\n",
              " 24,\n",
              " 5,\n",
              " 9,\n",
              " 6,\n",
              " 13,\n",
              " 34,\n",
              " 11,\n",
              " 11,\n",
              " 47,\n",
              " 13,\n",
              " 7,\n",
              " 2,\n",
              " 3,\n",
              " 25,\n",
              " 4,\n",
              " 9,\n",
              " 9,\n",
              " 2,\n",
              " 15,\n",
              " 5,\n",
              " 3,\n",
              " 23,\n",
              " 3,\n",
              " 49,\n",
              " 14,\n",
              " 49,\n",
              " 3,\n",
              " 25,\n",
              " 4,\n",
              " 9,\n",
              " 9,\n",
              " 2,\n",
              " 15,\n",
              " 5,\n",
              " 29,\n",
              " 2,\n",
              " 7,\n",
              " 9,\n",
              " 8,\n",
              " 19,\n",
              " 6,\n",
              " 7,\n",
              " 16,\n",
              " 3,\n",
              " 23,\n",
              " 3,\n",
              " 9,\n",
              " 8,\n",
              " 17,\n",
              " 15,\n",
              " 11,\n",
              " 2,\n",
              " 12,\n",
              " 12,\n",
              " 30,\n",
              " 27,\n",
              " 24,\n",
              " 10,\n",
              " 22,\n",
              " 28,\n",
              " 3,\n",
              " 25,\n",
              " 4,\n",
              " 9,\n",
              " 9,\n",
              " 2,\n",
              " 15,\n",
              " 5,\n",
              " 29,\n",
              " 13,\n",
              " 4,\n",
              " 7,\n",
              " 16,\n",
              " 18,\n",
              " 4,\n",
              " 16,\n",
              " 2,\n",
              " 3,\n",
              " 23,\n",
              " 3,\n",
              " 4,\n",
              " 15,\n",
              " 7,\n",
              " 4,\n",
              " 13,\n",
              " 5,\n",
              " 8,\n",
              " 29,\n",
              " 17,\n",
              " 19,\n",
              " 30,\n",
              " 27,\n",
              " 24,\n",
              " 10,\n",
              " 22,\n",
              " 42,\n",
              " 38,\n",
              " 3,\n",
              " 4,\n",
              " 12,\n",
              " 19,\n",
              " 7,\n",
              " 29,\n",
              " 2,\n",
              " 2,\n",
              " 38,\n",
              " 3,\n",
              " 2,\n",
              " 4,\n",
              " 6,\n",
              " 29,\n",
              " 36,\n",
              " 7,\n",
              " 12,\n",
              " 30,\n",
              " 27,\n",
              " 24,\n",
              " 10,\n",
              " 22,\n",
              " 10,\n",
              " 3,\n",
              " 25,\n",
              " 18,\n",
              " 12,\n",
              " 2,\n",
              " 11,\n",
              " 29,\n",
              " 4,\n",
              " 16,\n",
              " 2,\n",
              " 7,\n",
              " 5,\n",
              " 3,\n",
              " 23,\n",
              " 3,\n",
              " 13,\n",
              " 7,\n",
              " 18,\n",
              " 50,\n",
              " 12,\n",
              " 2,\n",
              " 14,\n",
              " 37,\n",
              " 22,\n",
              " 36,\n",
              " 22,\n",
              " 42,\n",
              " 22,\n",
              " 40,\n",
              " 3,\n",
              " 25]"
            ]
          },
          "execution_count": 18,
          "metadata": {},
          "output_type": "execute_result"
        }
      ],
      "source": [
        "padded[0]"
      ]
    },
    {
      "cell_type": "code",
      "execution_count": 19,
      "metadata": {
        "id": "mO7K51l8Lnpy"
      },
      "outputs": [],
      "source": [
        "padded=pad_sequences(padded)"
      ]
    },
    {
      "cell_type": "code",
      "execution_count": 20,
      "metadata": {
        "colab": {
          "base_uri": "https://localhost:8080/"
        },
        "id": "binQxMg6OQ_i",
        "outputId": "919e76a5-b0e6-4606-f2a9-5d3706d8726e"
      },
      "outputs": [
        {
          "name": "stdout",
          "output_type": "stream",
          "text": [
            "1339 (70735, 1339)\n"
          ]
        }
      ],
      "source": [
        "input_len=padded.shape[1]\n",
        "print(input_len,padded.shape)"
      ]
    },
    {
      "cell_type": "code",
      "execution_count": 21,
      "metadata": {
        "id": "HIVltTRjcylC"
      },
      "outputs": [],
      "source": [
        "padded=np.reshape(padded,(-1,padded.shape[1],1))"
      ]
    },
    {
      "cell_type": "code",
      "execution_count": 22,
      "metadata": {
        "colab": {
          "base_uri": "https://localhost:8080/"
        },
        "id": "nftCwUvTuhw_",
        "outputId": "8584d9b6-8a21-4335-b544-9a68cb96d99b"
      },
      "outputs": [
        {
          "name": "stdout",
          "output_type": "stream",
          "text": [
            "/content/drive/MyDrive/dataset\n"
          ]
        }
      ],
      "source": [
        "%cd \"/content/drive/MyDrive/dataset\""
      ]
    },
    {
      "cell_type": "code",
      "execution_count": 23,
      "metadata": {
        "colab": {
          "base_uri": "https://localhost:8080/"
        },
        "id": "A8HDTLxGuate",
        "outputId": "ca7fb2a2-e347-40e5-8875-c0a476da163a"
      },
      "outputs": [
        {
          "name": "stdout",
          "output_type": "stream",
          "text": [
            "Model: \"model\"\n",
            "_________________________________________________________________\n",
            " Layer (type)                Output Shape              Param #   \n",
            "=================================================================\n",
            " input_1 (InputLayer)        [(None, 1339)]            0         \n",
            "                                                                 \n",
            " embedding (Embedding)       (None, 1339, 32)          5376      \n",
            "                                                                 \n",
            " dropout (Dropout)           (None, 1339, 32)          0         \n",
            "                                                                 \n",
            " conv1d (Conv1D)             (None, 1310, 128)         123008    \n",
            "                                                                 \n",
            " max_pooling1d (MaxPooling1D  (None, 655, 128)         0         \n",
            " )                                                               \n",
            "                                                                 \n",
            " conv1d_1 (Conv1D)           (None, 636, 64)           163904    \n",
            "                                                                 \n",
            " max_pooling1d_1 (MaxPooling  (None, 318, 64)          0         \n",
            " 1D)                                                             \n",
            "                                                                 \n",
            " flatten (Flatten)           (None, 20352)             0         \n",
            "                                                                 \n",
            " dropout_1 (Dropout)         (None, 20352)             0         \n",
            "                                                                 \n",
            " dense (Dense)               (None, 128)               2605184   \n",
            "                                                                 \n",
            " dropout_2 (Dropout)         (None, 128)               0         \n",
            "                                                                 \n",
            " dense_1 (Dense)             (None, 1)                 129       \n",
            "                                                                 \n",
            "=================================================================\n",
            "Total params: 2,897,601\n",
            "Trainable params: 2,897,601\n",
            "Non-trainable params: 0\n",
            "_________________________________________________________________\n"
          ]
        }
      ],
      "source": [
        "import tensorflow as tf\n",
        "\n",
        "learning_rate = 0.00008\n",
        "beta_1 = 0.9\n",
        "beta_2 = 0.999\n",
        "epsilon = 1e-7\n",
        "\n",
        "optimizer = tf.keras.optimizers.Adam(\n",
        "    learning_rate=learning_rate,\n",
        "    beta_1=beta_1,\n",
        "    beta_2=beta_2,\n",
        "    epsilon=epsilon,\n",
        "    name=\"Adam_optimizer\"\n",
        ")\n",
        "\n",
        "inputs = tf.keras.Input(shape=(input_len,))\n",
        "embedding_dim = 32\n",
        "\n",
        "x = tf.keras.layers.Embedding(vocab_size+1, embedding_dim,input_length=input_len)(inputs)\n",
        "x = tf.keras.layers.Dropout(rate=0.3)(x)\n",
        "x = tf.keras.layers.Conv1D(filters=128, kernel_size=30, activation='relu', padding='valid')(x)\n",
        "x = tf.keras.layers.MaxPooling1D(pool_size=2)(x)\n",
        "x = tf.keras.layers.Conv1D(filters=64, kernel_size=20, activation='relu', padding='valid')(x)\n",
        "x = tf.keras.layers.MaxPooling1D(pool_size=2)(x)\n",
        "x = tf.keras.layers.Flatten()(x)\n",
        "x = tf.keras.layers.Dropout(rate=0.2)(x)\n",
        "x = tf.keras.layers.Dense(units=128, activation='relu')(x)\n",
        "x = tf.keras.layers.Dropout(rate=0.5)(x)\n",
        "outputs = tf.keras.layers.Dense(units=1, activation='sigmoid')(x)\n",
        "\n",
        "model = tf.keras.Model(inputs=inputs, outputs=outputs)\n",
        "\n",
        "model.compile(optimizer=optimizer, loss='binary_crossentropy', metrics=['accuracy'])\n",
        "\n",
        "model.summary()\n"
      ]
    },
    {
      "cell_type": "code",
      "execution_count": 24,
      "metadata": {
        "colab": {
          "base_uri": "https://localhost:8080/",
          "height": 1000
        },
        "id": "B5U5Bzmvvgjy",
        "outputId": "4f312ca6-c30e-4583-d471-e23864bf6433"
      },
      "outputs": [
        {
          "data": {
            "image/png": "[encoded data removed]",
            "text/plain": [
              "<IPython.core.display.Image object>"
            ]
          },
          "execution_count": 24,
          "metadata": {},
          "output_type": "execute_result"
        }
      ],
      "source": [
        "from tensorflow.keras.utils import plot_model\n",
        "\n",
        "\n",
        "plot_model(model,show_shapes=True)"
      ]
    },
    {
      "cell_type": "code",
      "execution_count": 25,
      "metadata": {
        "id": "cgSSxb1CVRbw"
      },
      "outputs": [],
      "source": [
        "\n",
        "# dt['type'].unique()"
      ]
    },
    {
      "cell_type": "code",
      "execution_count": 26,
      "metadata": {
        "id": "OqY5Z8Xr6OaJ"
      },
      "outputs": [],
      "source": [
        "y=np.array(dt['classification'])"
      ]
    },
    {
      "cell_type": "code",
      "execution_count": 27,
      "metadata": {
        "colab": {
          "base_uri": "https://localhost:8080/"
        },
        "id": "gJ28XPEoNjj2",
        "outputId": "8dac3ce3-1c81-4a86-f9a5-def257b035bb"
      },
      "outputs": [
        {
          "data": {
            "text/plain": [
              "70735"
            ]
          },
          "execution_count": 27,
          "metadata": {},
          "output_type": "execute_result"
        }
      ],
      "source": [
        "len(y)"
      ]
    },
    {
      "cell_type": "code",
      "execution_count": 28,
      "metadata": {
        "colab": {
          "base_uri": "https://localhost:8080/"
        },
        "id": "2GNblRUYi1p7",
        "outputId": "f4877501-d285-4fe3-cc43-354497b2c2e0"
      },
      "outputs": [
        {
          "name": "stdout",
          "output_type": "stream",
          "text": [
            "[[0]\n",
            " [0]\n",
            " [0]\n",
            " ...\n",
            " [1]\n",
            " [1]\n",
            " [1]]\n"
          ]
        }
      ],
      "source": [
        "y=np.reshape(y,(-1,1))\n",
        "print(y)"
      ]
    },
    {
      "cell_type": "markdown",
      "metadata": {
        "id": "5VwIyX-MWU4I"
      },
      "source": [
        "\n",
        "\n",
        "```\n",
        "# This is formatted as code\n",
        "```\n",
        "\n",
        "# normal = 0 and anomalous=1"
      ]
    },
    {
      "cell_type": "code",
      "execution_count": 29,
      "metadata": {
        "id": "d7pxk86dl5et"
      },
      "outputs": [],
      "source": [
        "from sklearn.model_selection import train_test_split\n",
        "\n",
        "X_train, X_test, y_train, y_test = train_test_split(padded, y, test_size=0.4, random_state=42,stratify=y,shuffle=True)\n",
        "x_val,x_test,y_val,y_test=train_test_split(X_test,y_test,test_size=0.5,random_state=42,stratify=y_test,shuffle=True)\n"
      ]
    },
    {
      "cell_type": "code",
      "execution_count": 30,
      "metadata": {
        "id": "SHzUxClo40wY"
      },
      "outputs": [],
      "source": [
        "epochs=50"
      ]
    },
    {
      "cell_type": "code",
      "execution_count": 31,
      "metadata": {
        "colab": {
          "base_uri": "https://localhost:8080/"
        },
        "id": "rYcVuD-pN7sd",
        "outputId": "a54bf2ae-26f2-4952-bd8f-5ab38c614043"
      },
      "outputs": [
        {
          "data": {
            "text/plain": [
              "35729"
            ]
          },
          "execution_count": 31,
          "metadata": {},
          "output_type": "execute_result"
        }
      ],
      "source": [
        "len(y[y==1])"
      ]
    },
    {
      "cell_type": "code",
      "execution_count": 32,
      "metadata": {
        "colab": {
          "base_uri": "https://localhost:8080/"
        },
        "id": "ooMef9B5R2iR",
        "outputId": "d8321988-b37b-4206-b2f5-6897aa8c26ba"
      },
      "outputs": [
        {
          "name": "stdout",
          "output_type": "stream",
          "text": [
            "Epoch 1/50\n",
            "43/43 [==============================] - 40s 525ms/step - loss: 0.5679 - accuracy: 0.7522 - val_loss: 0.4158 - val_accuracy: 0.8470\n",
            "Epoch 2/50\n",
            "43/43 [==============================] - 18s 411ms/step - loss: 0.3281 - accuracy: 0.8742 - val_loss: 0.2629 - val_accuracy: 0.8964\n",
            "Epoch 3/50\n",
            "43/43 [==============================] - 18s 410ms/step - loss: 0.2215 - accuracy: 0.9249 - val_loss: 0.2185 - val_accuracy: 0.9217\n",
            "Epoch 4/50\n",
            "43/43 [==============================] - 18s 412ms/step - loss: 0.1951 - accuracy: 0.9364 - val_loss: 0.1939 - val_accuracy: 0.9348\n",
            "Epoch 5/50\n",
            "43/43 [==============================] - 18s 411ms/step - loss: 0.1854 - accuracy: 0.9405 - val_loss: 0.1858 - val_accuracy: 0.9392\n",
            "Epoch 6/50\n",
            "43/43 [==============================] - 18s 413ms/step - loss: 0.1790 - accuracy: 0.9426 - val_loss: 0.1775 - val_accuracy: 0.9428\n",
            "Epoch 7/50\n",
            "43/43 [==============================] - 18s 410ms/step - loss: 0.1758 - accuracy: 0.9436 - val_loss: 0.1751 - val_accuracy: 0.9449\n",
            "Epoch 8/50\n",
            "43/43 [==============================] - 18s 411ms/step - loss: 0.1737 - accuracy: 0.9448 - val_loss: 0.1730 - val_accuracy: 0.9448\n",
            "Epoch 9/50\n",
            "43/43 [==============================] - 18s 419ms/step - loss: 0.1714 - accuracy: 0.9453 - val_loss: 0.1712 - val_accuracy: 0.9453\n",
            "Epoch 10/50\n",
            "43/43 [==============================] - 18s 411ms/step - loss: 0.1697 - accuracy: 0.9465 - val_loss: 0.1705 - val_accuracy: 0.9454\n",
            "Epoch 11/50\n",
            "43/43 [==============================] - 18s 410ms/step - loss: 0.1701 - accuracy: 0.9460 - val_loss: 0.1680 - val_accuracy: 0.9463\n",
            "Epoch 12/50\n",
            "43/43 [==============================] - 18s 410ms/step - loss: 0.1676 - accuracy: 0.9464 - val_loss: 0.1679 - val_accuracy: 0.9460\n",
            "Epoch 13/50\n",
            "43/43 [==============================] - 18s 410ms/step - loss: 0.1668 - accuracy: 0.9474 - val_loss: 0.1654 - val_accuracy: 0.9471\n",
            "Epoch 14/50\n",
            "43/43 [==============================] - 18s 413ms/step - loss: 0.1675 - accuracy: 0.9469 - val_loss: 0.1656 - val_accuracy: 0.9471\n",
            "Epoch 15/50\n",
            "43/43 [==============================] - 18s 411ms/step - loss: 0.1660 - accuracy: 0.9473 - val_loss: 0.1643 - val_accuracy: 0.9473\n",
            "Epoch 16/50\n",
            "43/43 [==============================] - 18s 409ms/step - loss: 0.1653 - accuracy: 0.9470 - val_loss: 0.1637 - val_accuracy: 0.9474\n",
            "Epoch 17/50\n",
            "43/43 [==============================] - 18s 409ms/step - loss: 0.1647 - accuracy: 0.9476 - val_loss: 0.1635 - val_accuracy: 0.9478\n",
            "Epoch 18/50\n",
            "43/43 [==============================] - 18s 411ms/step - loss: 0.1635 - accuracy: 0.9475 - val_loss: 0.1620 - val_accuracy: 0.9478\n",
            "Epoch 19/50\n",
            "43/43 [==============================] - 18s 409ms/step - loss: 0.1634 - accuracy: 0.9479 - val_loss: 0.1629 - val_accuracy: 0.9475\n",
            "Epoch 20/50\n",
            "43/43 [==============================] - 18s 411ms/step - loss: 0.1625 - accuracy: 0.9479 - val_loss: 0.1608 - val_accuracy: 0.9480\n",
            "Epoch 21/50\n",
            "43/43 [==============================] - 18s 409ms/step - loss: 0.1621 - accuracy: 0.9480 - val_loss: 0.1598 - val_accuracy: 0.9483\n",
            "Epoch 22/50\n",
            "43/43 [==============================] - 18s 409ms/step - loss: 0.1612 - accuracy: 0.9477 - val_loss: 0.1591 - val_accuracy: 0.9484\n",
            "Epoch 23/50\n",
            "43/43 [==============================] - 18s 408ms/step - loss: 0.1614 - accuracy: 0.9482 - val_loss: 0.1594 - val_accuracy: 0.9485\n",
            "Epoch 24/50\n",
            "43/43 [==============================] - 18s 418ms/step - loss: 0.1601 - accuracy: 0.9481 - val_loss: 0.1576 - val_accuracy: 0.9486\n",
            "Epoch 25/50\n",
            "43/43 [==============================] - 18s 408ms/step - loss: 0.1588 - accuracy: 0.9484 - val_loss: 0.1572 - val_accuracy: 0.9481\n",
            "Epoch 26/50\n",
            "43/43 [==============================] - 18s 408ms/step - loss: 0.1573 - accuracy: 0.9487 - val_loss: 0.1580 - val_accuracy: 0.9483\n",
            "Epoch 27/50\n",
            "43/43 [==============================] - 18s 409ms/step - loss: 0.1561 - accuracy: 0.9484 - val_loss: 0.1543 - val_accuracy: 0.9487\n",
            "Epoch 28/50\n",
            "43/43 [==============================] - 18s 409ms/step - loss: 0.1551 - accuracy: 0.9491 - val_loss: 0.1527 - val_accuracy: 0.9490\n",
            "Epoch 29/50\n",
            "43/43 [==============================] - 18s 409ms/step - loss: 0.1560 - accuracy: 0.9487 - val_loss: 0.1536 - val_accuracy: 0.9487\n",
            "Epoch 30/50\n",
            "43/43 [==============================] - 18s 409ms/step - loss: 0.1518 - accuracy: 0.9489 - val_loss: 0.1509 - val_accuracy: 0.9490\n",
            "Epoch 31/50\n",
            "43/43 [==============================] - 18s 409ms/step - loss: 0.1527 - accuracy: 0.9484 - val_loss: 0.1500 - val_accuracy: 0.9491\n",
            "Epoch 32/50\n",
            "43/43 [==============================] - 17s 407ms/step - loss: 0.1512 - accuracy: 0.9486 - val_loss: 0.1492 - val_accuracy: 0.9495\n",
            "Epoch 33/50\n",
            "43/43 [==============================] - 18s 410ms/step - loss: 0.1489 - accuracy: 0.9494 - val_loss: 0.1481 - val_accuracy: 0.9492\n",
            "Epoch 34/50\n",
            "43/43 [==============================] - 18s 408ms/step - loss: 0.1485 - accuracy: 0.9494 - val_loss: 0.1471 - val_accuracy: 0.9497\n",
            "Epoch 35/50\n",
            "43/43 [==============================] - 18s 409ms/step - loss: 0.1480 - accuracy: 0.9498 - val_loss: 0.1463 - val_accuracy: 0.9497\n",
            "Epoch 36/50\n",
            "43/43 [==============================] - 17s 407ms/step - loss: 0.1485 - accuracy: 0.9496 - val_loss: 0.1465 - val_accuracy: 0.9498\n",
            "Epoch 37/50\n",
            "43/43 [==============================] - 17s 407ms/step - loss: 0.1449 - accuracy: 0.9499 - val_loss: 0.1447 - val_accuracy: 0.9500\n",
            "Epoch 38/50\n",
            "43/43 [==============================] - 18s 409ms/step - loss: 0.1447 - accuracy: 0.9502 - val_loss: 0.1445 - val_accuracy: 0.9501\n",
            "Epoch 39/50\n",
            "43/43 [==============================] - 18s 409ms/step - loss: 0.1424 - accuracy: 0.9508 - val_loss: 0.1433 - val_accuracy: 0.9504\n",
            "Epoch 40/50\n",
            "43/43 [==============================] - 18s 408ms/step - loss: 0.1419 - accuracy: 0.9505 - val_loss: 0.1449 - val_accuracy: 0.9503\n",
            "Epoch 41/50\n",
            "43/43 [==============================] - 17s 407ms/step - loss: 0.1416 - accuracy: 0.9505 - val_loss: 0.1434 - val_accuracy: 0.9509\n",
            "Epoch 42/50\n",
            "43/43 [==============================] - 17s 406ms/step - loss: 0.1426 - accuracy: 0.9509 - val_loss: 0.1451 - val_accuracy: 0.9502\n",
            "Epoch 43/50\n",
            "43/43 [==============================] - 18s 409ms/step - loss: 0.1428 - accuracy: 0.9507 - val_loss: 0.1456 - val_accuracy: 0.9509\n",
            "Epoch 44/50\n",
            "43/43 [==============================] - 17s 406ms/step - loss: 0.1414 - accuracy: 0.9510 - val_loss: 0.1433 - val_accuracy: 0.9512\n",
            "Epoch 45/50\n",
            "43/43 [==============================] - 17s 406ms/step - loss: 0.1389 - accuracy: 0.9510 - val_loss: 0.1421 - val_accuracy: 0.9509\n",
            "Epoch 46/50\n",
            "43/43 [==============================] - 17s 407ms/step - loss: 0.1368 - accuracy: 0.9521 - val_loss: 0.1404 - val_accuracy: 0.9511\n",
            "Epoch 47/50\n",
            "43/43 [==============================] - 17s 406ms/step - loss: 0.1362 - accuracy: 0.9517 - val_loss: 0.1403 - val_accuracy: 0.9512\n",
            "Epoch 48/50\n",
            "43/43 [==============================] - 17s 407ms/step - loss: 0.1363 - accuracy: 0.9520 - val_loss: 0.1386 - val_accuracy: 0.9515\n",
            "Epoch 49/50\n",
            "43/43 [==============================] - 18s 409ms/step - loss: 0.1350 - accuracy: 0.9521 - val_loss: 0.1397 - val_accuracy: 0.9515\n",
            "Epoch 50/50\n",
            "43/43 [==============================] - 18s 409ms/step - loss: 0.1340 - accuracy: 0.9524 - val_loss: 0.1377 - val_accuracy: 0.9517\n"
          ]
        }
      ],
      "source": [
        "his=model.fit(X_train,y_train,validation_data=(x_val,y_val),verbose=1,batch_size=1000,epochs=epochs)"
      ]
    },
    {
      "cell_type": "code",
      "execution_count": 33,
      "metadata": {
        "colab": {
          "base_uri": "https://localhost:8080/"
        },
        "id": "cPhyd3vYb9y_",
        "outputId": "623ee18d-0de3-436d-f9b9-902cc7d2b375"
      },
      "outputs": [
        {
          "name": "stdout",
          "output_type": "stream",
          "text": [
            "443/443 [==============================] - 3s 6ms/step - loss: 0.1383 - accuracy: 0.9514\n"
          ]
        }
      ],
      "source": [
        "score=model.evaluate(x_test,y_test,verbose=1)"
      ]
    },
    {
      "cell_type": "code",
      "execution_count": 34,
      "metadata": {
        "id": "r0PHPmk7Bhc9"
      },
      "outputs": [],
      "source": [
        "model.save('model.h5')"
      ]
    },
    {
      "cell_type": "code",
      "execution_count": 35,
      "metadata": {
        "id": "nNLCBtvzb_do"
      },
      "outputs": [],
      "source": [
        "import matplotlib.pyplot as plt"
      ]
    },
    {
      "cell_type": "code",
      "execution_count": 36,
      "metadata": {
        "id": "VBRRfcs_pOgD"
      },
      "outputs": [],
      "source": [
        "x=np.arange(1,epochs+1,1)"
      ]
    },
    {
      "cell_type": "code",
      "execution_count": 37,
      "metadata": {
        "colab": {
          "base_uri": "https://localhost:8080/"
        },
        "id": "E5vZkLhAWx1n",
        "outputId": "95babed5-ddce-420e-b772-2600f8f8116d"
      },
      "outputs": [
        {
          "data": {
            "text/plain": [
              "dict_keys(['loss', 'accuracy', 'val_loss', 'val_accuracy'])"
            ]
          },
          "execution_count": 37,
          "metadata": {},
          "output_type": "execute_result"
        }
      ],
      "source": [
        "his.history.keys()"
      ]
    },
    {
      "cell_type": "code",
      "execution_count": 38,
      "metadata": {
        "colab": {
          "base_uri": "https://localhost:8080/",
          "height": 452
        },
        "id": "9QhvJKPfr2rm",
        "outputId": "09193e91-2ac3-4a00-9ab6-dd8c14b446a5"
      },
      "outputs": [
        {
          "data": {
            "image/png": "[encoded data removed]",
            "text/plain": [
              "<Figure size 640x480 with 1 Axes>"
            ]
          },
          "metadata": {},
          "output_type": "display_data"
        }
      ],
      "source": [
        "plt.plot(x,his.history['accuracy'],label='training accuracy')\n",
        "plt.plot(x,his.history['val_accuracy'],label='validation accuracy')\n",
        "plt.legend(loc='best')\n",
        "plt.title('epochs vs accuracy')\n",
        "plt.savefig('accuracy_vs_epochs.jpg')\n",
        "plt.show()"
      ]
    },
    {
      "cell_type": "code",
      "execution_count": 39,
      "metadata": {
        "colab": {
          "base_uri": "https://localhost:8080/",
          "height": 452
        },
        "id": "XReosmMkxGe4",
        "outputId": "fae5688d-5d18-413a-90d3-3ceae83af203"
      },
      "outputs": [
        {
          "data": {
            "image/png": "[encoded data removed]",
            "text/plain": [
              "<Figure size 640x480 with 1 Axes>"
            ]
          },
          "metadata": {},
          "output_type": "display_data"
        }
      ],
      "source": [
        "plt.plot(x,his.history['loss'],label='training loss')\n",
        "plt.plot(x,his.history['val_loss'],label='validation loss')\n",
        "plt.legend(loc='best')\n",
        "plt.title('epochs vs loss')\n",
        "plt.savefig('loss_vs_epochs.jpg')\n",
        "plt.show()"
      ]
    },
    {
      "cell_type": "code",
      "execution_count": 40,
      "metadata": {
        "id": "gu8mnBFaxN8A"
      },
      "outputs": [],
      "source": [
        "import pickle\n",
        "\n",
        "with open('model_pickle.pkl','wb') as f:\n",
        "  pickle.dump(model,f)\n",
        "\n",
        "\n",
        "with open('tokenizer.pkl','wb') as f:\n",
        "  pickle.dump(tokenizer,f)\n",
        "\n",
        "with open('padded_sequence.pkl','wb') as f:\n",
        "  pickle.dump(pad_sequences,f)"
      ]
    },
    {
      "cell_type": "code",
      "execution_count": 41,
      "metadata": {
        "id": "JPWOOj7m_RlT"
      },
      "outputs": [],
      "source": [
        "labels=[\"Normal\",'Anamalous']\n",
        "def get_label(y):\n",
        "  return labels[int(y>=0.5)]"
      ]
    },
    {
      "cell_type": "code",
      "execution_count": 42,
      "metadata": {
        "colab": {
          "base_uri": "https://localhost:8080/"
        },
        "id": "Cq6PNqHU5lJz",
        "outputId": "95f67379-974f-41e3-c5a9-02123967fdc3"
      },
      "outputs": [
        {
          "name": "stdout",
          "output_type": "stream",
          "text": [
            "443/443 [==============================] - 2s 4ms/step\n"
          ]
        }
      ],
      "source": [
        "y_pred=model.predict(x_test)\n",
        "y_predicted=[get_label(x) for x in y_pred]\n",
        "y_actual=[get_label(x) for x in y_test]"
      ]
    },
    {
      "cell_type": "code",
      "execution_count": 43,
      "metadata": {
        "colab": {
          "base_uri": "https://localhost:8080/"
        },
        "id": "6AmUyPESCtFd",
        "outputId": "4360014c-b4c8-45de-df59-9ce27d46d75d"
      },
      "outputs": [
        {
          "data": {
            "text/plain": [
              "['Normal', 'Normal', 'Anamalous', 'Anamalous', 'Anamalous']"
            ]
          },
          "execution_count": 43,
          "metadata": {},
          "output_type": "execute_result"
        }
      ],
      "source": [
        "y_predicted[:5]"
      ]
    },
    {
      "cell_type": "code",
      "execution_count": 44,
      "metadata": {
        "colab": {
          "base_uri": "https://localhost:8080/",
          "height": 430
        },
        "id": "ZvMzmu9DAHef",
        "outputId": "a47bb1b5-93e9-453e-add0-852c94077182"
      },
      "outputs": [
        {
          "data": {
            "image/png": "[encoded data removed]",
            "text/plain": [
              "<Figure size 640x480 with 1 Axes>"
            ]
          },
          "metadata": {},
          "output_type": "display_data"
        }
      ],
      "source": [
        "from sklearn.metrics import confusion_matrix\n",
        "import seaborn as sns\n",
        "conf_mat = confusion_matrix(y_actual, y_predicted,labels=labels)\n",
        "matrix=sns.heatmap(conf_mat, square=True, annot=True, cmap='Blues', fmt='d', cbar=False)\n",
        "matrix.figure.savefig('confusion_matrix.jpg')"
      ]
    },
    {
      "cell_type": "code",
      "execution_count": 45,
      "metadata": {
        "colab": {
          "base_uri": "https://localhost:8080/"
        },
        "id": "HSh8S_SQAhMC",
        "outputId": "f07da445-2fc4-4c87-f188-138f012f0c52"
      },
      "outputs": [
        {
          "name": "stdout",
          "output_type": "stream",
          "text": [
            "              precision    recall  f1-score   support\n",
            "\n",
            "   Anamalous       1.00      0.90      0.95      7146\n",
            "      Normal       0.91      1.00      0.95      7001\n",
            "\n",
            "    accuracy                           0.95     14147\n",
            "   macro avg       0.96      0.95      0.95     14147\n",
            "weighted avg       0.96      0.95      0.95     14147\n",
            "\n"
          ]
        }
      ],
      "source": [
        "from sklearn.metrics import classification_report\n",
        "print(classification_report(y_actual,y_predicted))"
      ]
    },
    {
      "cell_type": "code",
      "execution_count": 46,
      "metadata": {
        "colab": {
          "base_uri": "https://localhost:8080/"
        },
        "id": "6qgvcUVvDCUl",
        "outputId": "4f3025a4-dcd9-45ea-b559-1d803d1fc37f"
      },
      "outputs": [
        {
          "data": {
            "text/plain": [
              "array([[0.03843963],\n",
              "       [0.22313905],\n",
              "       [1.        ],\n",
              "       ...,\n",
              "       [0.05625778],\n",
              "       [0.05242082],\n",
              "       [1.        ]], dtype=float32)"
            ]
          },
          "execution_count": 46,
          "metadata": {},
          "output_type": "execute_result"
        }
      ],
      "source": [
        "y_pred"
      ]
    },
    {
      "cell_type": "code",
      "execution_count": 47,
      "metadata": {
        "colab": {
          "base_uri": "https://localhost:8080/",
          "height": 472
        },
        "id": "G7_vzNpgAeby",
        "outputId": "ad2b0f54-874b-43db-c19c-f8400cedc746"
      },
      "outputs": [
        {
          "data": {
            "image/png": "[encoded data removed]",
            "text/plain": [
              "<Figure size 640x480 with 1 Axes>"
            ]
          },
          "metadata": {},
          "output_type": "display_data"
        }
      ],
      "source": [
        "import numpy as np\n",
        "import matplotlib.pyplot as plt\n",
        "from sklearn.metrics import roc_curve, auc\n",
        "\n",
        "# predict probabilities for test set\n",
        "# y_test_proba = model.predict(X_test)\n",
        "\n",
        "# compute ROC curve and AUC\n",
        "fpr, tpr, thresholds = roc_curve(y_test, y_pred)\n",
        "roc_auc = auc(fpr, tpr)\n",
        "\n",
        "# plot ROC curve\n",
        "plt.plot(fpr, tpr, color='darkorange', lw=2, label='ROC curve (area = %0.2f)' % roc_auc)\n",
        "plt.plot([0, 1], [0, 1], color='navy', lw=2, linestyle='--')\n",
        "plt.xlim([0.0, 1.0])\n",
        "plt.ylim([0.0, 1.05])\n",
        "plt.xlabel('False Positive Rate')\n",
        "plt.ylabel('True Positive Rate')\n",
        "plt.title('Receiver Operating Characteristic')\n",
        "plt.legend(loc=\"lower right\")\n",
        "plt.show()\n"
      ]
    },
    {
      "cell_type": "code",
      "execution_count": 48,
      "metadata": {
        "id": "zEYr4LFBGLHc"
      },
      "outputs": [],
      "source": [
        "import tensorflow as tf\n",
        "\n",
        "def binary_accuracy_with_threshold(y_true, y_pred, threshold=0.5):\n",
        "    y_pred = tf.cast(y_pred >= threshold, tf.float32)\n",
        "    return tf.keras.metrics.binary_accuracy(y_true, y_pred)\n"
      ]
    },
    {
      "cell_type": "code",
      "execution_count": 49,
      "metadata": {
        "id": "ZMkysoGrToAk"
      },
      "outputs": [],
      "source": [
        "x='''/favicon.ico\n",
        " GET\n",
        "image/avif,image/webp,image/apng,image/svg+xml,image/*,*/*;q=0.8\n",
        "en-IN,en-GB;q=0.9,en-US;q=0.8,en;q=0.7,hi;q=0.6\n",
        "utf-8, utf-8;q=0.5, *;q=0.5 \n",
        "Mozilla/5.0 (Windows NT 10.0; Win64; x64) AppleWebKit/537.36 (KHTML, like Gecko) Chrome/111.0.0.0 Safari/537.36\n",
        "60\n",
        "'''"
      ]
    },
    {
      "cell_type": "code",
      "execution_count": 50,
      "metadata": {
        "colab": {
          "base_uri": "https://localhost:8080/",
          "height": 53
        },
        "id": "VCGCYXiSqiGb",
        "outputId": "336ea95c-ded5-4e6c-f870-795c5fb18c71"
      },
      "outputs": [
        {
          "data": {
            "application/vnd.google.colaboratory.intrinsic+json": {
              "type": "string"
            },
            "text/plain": [
              "'/favicon.ico\\n GET\\nimage/avif,image/webp,image/apng,image/svg+xml,image/*,*/*;q=0.8\\nen-IN,en-GB;q=0.9,en-US;q=0.8,en;q=0.7,hi;q=0.6\\nutf-8, utf-8;q=0.5, *;q=0.5 \\nMozilla/5.0 (Windows NT 10.0; Win64; x64) AppleWebKit/537.36 (KHTML, like Gecko) Chrome/111.0.0.0 Safari/537.36\\n60\\n'"
            ]
          },
          "execution_count": 50,
          "metadata": {},
          "output_type": "execute_result"
        }
      ],
      "source": [
        "x"
      ]
    },
    {
      "cell_type": "code",
      "execution_count": 51,
      "metadata": {
        "id": "NWNdShyyqi_H"
      },
      "outputs": [],
      "source": [
        "\n",
        "x=tokenizer.texts_to_sequences([x])"
      ]
    },
    {
      "cell_type": "code",
      "execution_count": 52,
      "metadata": {
        "id": "KqQiuZb0qphr"
      },
      "outputs": [],
      "source": [
        "x=pad_sequences(x,maxlen=input_len)"
      ]
    },
    {
      "cell_type": "code",
      "execution_count": 53,
      "metadata": {
        "colab": {
          "base_uri": "https://localhost:8080/"
        },
        "id": "msKe11Fbqvhi",
        "outputId": "25e2e100-f82c-432d-b3c6-de195b667a85"
      },
      "outputs": [
        {
          "name": "stdout",
          "output_type": "stream",
          "text": [
            "1/1 [==============================] - 0s 186ms/step\n"
          ]
        },
        {
          "data": {
            "text/plain": [
              "array([[0.17508487]], dtype=float32)"
            ]
          },
          "execution_count": 53,
          "metadata": {},
          "output_type": "execute_result"
        }
      ],
      "source": [
        "model.predict(x)"
      ]
    },
    {
      "cell_type": "code",
      "execution_count": 54,
      "metadata": {
        "id": "Pk02XAuTsioU"
      },
      "outputs": [],
      "source": [
        "# dt[dt['Class']=='Valid']['URI'].head()"
      ]
    },
    {
      "cell_type": "code",
      "execution_count": 54,
      "metadata": {
        "id": "BgOMp_L8VA1N"
      },
      "outputs": [],
      "source": []
    }
  ],
  "metadata": {
    "accelerator": "GPU",
    "colab": {
      "provenance": []
    },
    "gpuClass": "standard",
    "kernelspec": {
      "display_name": "Python 3",
      "name": "python3"
    },
    "language_info": {
      "name": "python"
    }
  },
  "nbformat": 4,
  "nbformat_minor": 0
}
